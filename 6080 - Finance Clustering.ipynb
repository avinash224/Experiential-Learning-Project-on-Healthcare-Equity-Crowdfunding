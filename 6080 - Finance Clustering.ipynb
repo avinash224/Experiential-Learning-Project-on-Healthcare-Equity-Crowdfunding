{
 "cells": [
  {
   "cell_type": "code",
   "execution_count": 1,
   "metadata": {},
   "outputs": [],
   "source": [
    "import pandas as pd\n",
    "import numpy as np"
   ]
  },
  {
   "cell_type": "code",
   "execution_count": 2,
   "metadata": {},
   "outputs": [],
   "source": [
    "disc = pd.read_csv('D:/husky mail/NEU/NEU COURSES/6080 - Integrated Experiential Project/SEC - DISC/DISC raw full.csv')"
   ]
  },
  {
   "cell_type": "code",
   "execution_count": 3,
   "metadata": {},
   "outputs": [],
   "source": [
    "issr = pd.read_csv('D:/husky mail/NEU/NEU COURSES/6080 - Integrated Experiential Project/SEC - ISSR/ISSR raw full.csv')"
   ]
  },
  {
   "cell_type": "code",
   "execution_count": 4,
   "metadata": {},
   "outputs": [],
   "source": [
    "df = pd.merge(disc, issr, on=['Accession Number', 'Table Name', 'Number of Records'])"
   ]
  },
  {
   "cell_type": "markdown",
   "metadata": {},
   "source": [
    "### Prepare data for clustering / kmean / knearest"
   ]
  },
  {
   "cell_type": "code",
   "execution_count": 5,
   "metadata": {},
   "outputs": [],
   "source": [
    "df_num = df[['Accession Number','Act Received Most Recent Fiscal Year', 'Act Received Prior Fiscal Year',\n",
    "                  'Cost Goods Sold Most Recent Fiscal Year','Cost Goods Sold Prior Fiscal Year', 'Current Employees', \n",
    "                  'Long Term Debt Most Recent Fiscal Year', 'Long Term Debt Prior Fiscal Year','Maximum Offering Amount',\n",
    "                  'Net Income Most Recent Fiscal Year', 'Net Income Prior Fiscal Year', 'No Of Security Offered',\n",
    "                  'Offering Amount','Short Term Debt Most Recent Fiscal Year', 'Short Term Debt Prior Fiscal Year',\n",
    "                  'Taxes Paid Most Recent Fiscal Year', 'Taxes Paid Prior Fiscal Year', 'Total Asset Most Recent Fiscal Year',\n",
    "                  'Total Asset Prior Fiscal Year','Cash Equi Most Recent Fiscal Year']]"
   ]
  },
  {
   "cell_type": "code",
   "execution_count": 6,
   "metadata": {},
   "outputs": [
    {
     "data": {
      "text/plain": [
       "Accession Number                              0\n",
       "Act Received Most Recent Fiscal Year        335\n",
       "Act Received Prior Fiscal Year              335\n",
       "Cost Goods Sold Most Recent Fiscal Year     335\n",
       "Cost Goods Sold Prior Fiscal Year           335\n",
       "Current Employees                           335\n",
       "Long Term Debt Most Recent Fiscal Year      335\n",
       "Long Term Debt Prior Fiscal Year            335\n",
       "Maximum Offering Amount                    1050\n",
       "Net Income Most Recent Fiscal Year          335\n",
       "Net Income Prior Fiscal Year                335\n",
       "No Of Security Offered                     2114\n",
       "Offering Amount                             992\n",
       "Short Term Debt Most Recent Fiscal Year     335\n",
       "Short Term Debt Prior Fiscal Year           335\n",
       "Taxes Paid Most Recent Fiscal Year          335\n",
       "Taxes Paid Prior Fiscal Year                335\n",
       "Total Asset Most Recent Fiscal Year         335\n",
       "Total Asset Prior Fiscal Year               335\n",
       "Cash Equi Most Recent Fiscal Year           335\n",
       "dtype: int64"
      ]
     },
     "execution_count": 6,
     "metadata": {},
     "output_type": "execute_result"
    }
   ],
   "source": [
    "df_num.isnull().sum()"
   ]
  },
  {
   "cell_type": "code",
   "execution_count": 7,
   "metadata": {},
   "outputs": [
    {
     "data": {
      "text/plain": [
       "Accession Number                              0\n",
       "Act Received Most Recent Fiscal Year          0\n",
       "Act Received Prior Fiscal Year                0\n",
       "Cost Goods Sold Most Recent Fiscal Year       0\n",
       "Cost Goods Sold Prior Fiscal Year             0\n",
       "Current Employees                             0\n",
       "Long Term Debt Most Recent Fiscal Year        0\n",
       "Long Term Debt Prior Fiscal Year              0\n",
       "Maximum Offering Amount                     715\n",
       "Net Income Most Recent Fiscal Year            0\n",
       "Net Income Prior Fiscal Year                  0\n",
       "No Of Security Offered                     1779\n",
       "Offering Amount                             657\n",
       "Short Term Debt Most Recent Fiscal Year       0\n",
       "Short Term Debt Prior Fiscal Year             0\n",
       "Taxes Paid Most Recent Fiscal Year            0\n",
       "Taxes Paid Prior Fiscal Year                  0\n",
       "Total Asset Most Recent Fiscal Year           0\n",
       "Total Asset Prior Fiscal Year                 0\n",
       "Cash Equi Most Recent Fiscal Year             0\n",
       "dtype: int64"
      ]
     },
     "execution_count": 7,
     "metadata": {},
     "output_type": "execute_result"
    }
   ],
   "source": [
    "df_num = df_num.dropna(axis=0, subset=['Act Received Most Recent Fiscal Year'])\n",
    "df_num.isnull().sum()"
   ]
  },
  {
   "cell_type": "code",
   "execution_count": 8,
   "metadata": {},
   "outputs": [],
   "source": [
    "import matplotlib.pyplot as plt\n",
    "from matplotlib import pyplot as plt\n",
    "from sklearn.cluster import KMeans\n",
    "from sklearn.datasets import make_classification\n",
    "from sklearn.preprocessing import MinMaxScaler"
   ]
  },
  {
   "cell_type": "code",
   "execution_count": 9,
   "metadata": {
    "scrolled": true
   },
   "outputs": [
    {
     "name": "stdout",
     "output_type": "stream",
     "text": [
      "<class 'pandas.core.frame.DataFrame'>\n",
      "Int64Index: 6526 entries, 0 to 6860\n",
      "Data columns (total 14 columns):\n",
      "Act Received Most Recent Fiscal Year       6526 non-null float64\n",
      "Act Received Prior Fiscal Year             6526 non-null float64\n",
      "Cost Goods Sold Most Recent Fiscal Year    6526 non-null float64\n",
      "Cost Goods Sold Prior Fiscal Year          6526 non-null float64\n",
      "Long Term Debt Most Recent Fiscal Year     6526 non-null float64\n",
      "Long Term Debt Prior Fiscal Year           6526 non-null float64\n",
      "Net Income Most Recent Fiscal Year         6526 non-null float64\n",
      "Net Income Prior Fiscal Year               6526 non-null float64\n",
      "Short Term Debt Most Recent Fiscal Year    6526 non-null float64\n",
      "Short Term Debt Prior Fiscal Year          6526 non-null float64\n",
      "Taxes Paid Most Recent Fiscal Year         6526 non-null float64\n",
      "Taxes Paid Prior Fiscal Year               6526 non-null float64\n",
      "Total Asset Most Recent Fiscal Year        6526 non-null float64\n",
      "Total Asset Prior Fiscal Year              6526 non-null float64\n",
      "dtypes: float64(14)\n",
      "memory usage: 764.8 KB\n"
     ]
    }
   ],
   "source": [
    "df_finance = df_num.drop(['Accession Number','Current Employees','Maximum Offering Amount','No Of Security Offered',\n",
    "                         'Offering Amount', 'Cash Equi Most Recent Fiscal Year'], axis = 1)\n",
    "df_finance.info()"
   ]
  },
  {
   "cell_type": "code",
   "execution_count": 10,
   "metadata": {},
   "outputs": [],
   "source": [
    "mms = MinMaxScaler()\n",
    "mms.fit(df_finance)\n",
    "finance_transform = mms.transform(df_finance)"
   ]
  },
  {
   "cell_type": "markdown",
   "metadata": {},
   "source": [
    "### Define appropriate k"
   ]
  },
  {
   "cell_type": "code",
   "execution_count": 11,
   "metadata": {},
   "outputs": [],
   "source": [
    "Sum_of_squared_distances = []\n",
    "K = range(1,15)\n",
    "for k in K:\n",
    "    km = KMeans(n_clusters=k)\n",
    "    km = km.fit(finance_transform)\n",
    "    Sum_of_squared_distances.append(km.inertia_)"
   ]
  },
  {
   "cell_type": "code",
   "execution_count": 12,
   "metadata": {},
   "outputs": [
    {
     "data": {
      "image/png": "[encoded data removed]",
      "text/plain": [
       "<Figure size 432x288 with 1 Axes>"
      ]
     },
     "metadata": {
      "needs_background": "light"
     },
     "output_type": "display_data"
    }
   ],
   "source": [
    "plt.plot(K, Sum_of_squared_distances, 'bx-')\n",
    "plt.xlabel('k')\n",
    "plt.ylabel('Sum_of_squared_distances')\n",
    "plt.title('Elbow Method For Optimal k')\n",
    "plt.show()"
   ]
  },
  {
   "cell_type": "code",
   "execution_count": 13,
   "metadata": {},
   "outputs": [
    {
     "data": {
      "image/png": "[encoded data removed]",
      "text/plain": [
       "<Figure size 432x288 with 1 Axes>"
      ]
     },
     "metadata": {
      "needs_background": "light"
     },
     "output_type": "display_data"
    }
   ],
   "source": [
    "km_finance = KMeans(n_clusters=5).fit(finance_transform)\n",
    "centers = km_finance.cluster_centers_\n",
    "plt.scatter(centers[:, 0], centers[:, 1], c='black', s=200, alpha=0.5);"
   ]
  },
  {
   "cell_type": "code",
   "execution_count": 19,
   "metadata": {},
   "outputs": [
    {
     "data": {
      "text/plain": [
       "3.0    5405\n",
       "0.0     634\n",
       "1.0     133\n",
       "2.0      46\n",
       "4.0       1\n",
       "Name: cluster, dtype: int64"
      ]
     },
     "execution_count": 19,
     "metadata": {},
     "output_type": "execute_result"
    }
   ],
   "source": [
    "cluster_map = pd.DataFrame()\n",
    "cluster_map['data_index'] = df_finance.index.values\n",
    "cluster_map['cluster'] = km_finance.labels_\n",
    "df_finance['cluster'] = cluster_map['cluster']\n",
    "df_finance['cluster'].value_counts()"
   ]
  },
  {
   "cell_type": "code",
   "execution_count": 15,
   "metadata": {},
   "outputs": [
    {
     "data": {
      "text/html": [
       "<div>\n",
       "<style scoped>\n",
       "    .dataframe tbody tr th:only-of-type {\n",
       "        vertical-align: middle;\n",
       "    }\n",
       "\n",
       "    .dataframe tbody tr th {\n",
       "        vertical-align: top;\n",
       "    }\n",
       "\n",
       "    .dataframe thead th {\n",
       "        text-align: right;\n",
       "    }\n",
       "</style>\n",
       "<table border=\"1\" class=\"dataframe\">\n",
       "  <thead>\n",
       "    <tr style=\"text-align: right;\">\n",
       "      <th></th>\n",
       "      <th>data_index</th>\n",
       "      <th>cluster</th>\n",
       "    </tr>\n",
       "  </thead>\n",
       "  <tbody>\n",
       "    <tr>\n",
       "      <td>4832</td>\n",
       "      <td>5051</td>\n",
       "      <td>4</td>\n",
       "    </tr>\n",
       "  </tbody>\n",
       "</table>\n",
       "</div>"
      ],
      "text/plain": [
       "      data_index  cluster\n",
       "4832        5051        4"
      ]
     },
     "execution_count": 15,
     "metadata": {},
     "output_type": "execute_result"
    }
   ],
   "source": [
    "cluster_map[cluster_map.cluster == 4]"
   ]
  },
  {
   "cell_type": "markdown",
   "metadata": {},
   "source": [
    "## Trying to get success companies"
   ]
  },
  {
   "cell_type": "code",
   "execution_count": 86,
   "metadata": {},
   "outputs": [
    {
     "data": {
      "text/html": [
       "<div>\n",
       "<style scoped>\n",
       "    .dataframe tbody tr th:only-of-type {\n",
       "        vertical-align: middle;\n",
       "    }\n",
       "\n",
       "    .dataframe tbody tr th {\n",
       "        vertical-align: top;\n",
       "    }\n",
       "\n",
       "    .dataframe thead th {\n",
       "        text-align: right;\n",
       "    }\n",
       "</style>\n",
       "<table border=\"1\" class=\"dataframe\">\n",
       "  <thead>\n",
       "    <tr style=\"text-align: right;\">\n",
       "      <th></th>\n",
       "      <th>Progress Update</th>\n",
       "    </tr>\n",
       "  </thead>\n",
       "  <tbody>\n",
       "    <tr>\n",
       "      <td>122</td>\n",
       "      <td>Issuer reached Offering Deadline (7-22-16). To...</td>\n",
       "    </tr>\n",
       "    <tr>\n",
       "      <td>138</td>\n",
       "      <td>Total Investment: $999,999.00. Shares Sold: 14...</td>\n",
       "    </tr>\n",
       "    <tr>\n",
       "      <td>140</td>\n",
       "      <td>$335,111 in investments. Payments are still be...</td>\n",
       "    </tr>\n",
       "    <tr>\n",
       "      <td>143</td>\n",
       "      <td>$1,000,000.00 in investments. Payments are sti...</td>\n",
       "    </tr>\n",
       "    <tr>\n",
       "      <td>153</td>\n",
       "      <td>Total Investment: $101,386.00. Due to a glitch...</td>\n",
       "    </tr>\n",
       "    <tr>\n",
       "      <td>...</td>\n",
       "      <td>...</td>\n",
       "    </tr>\n",
       "    <tr>\n",
       "      <td>6812</td>\n",
       "      <td>$282,000 in investments. Payments still being ...</td>\n",
       "    </tr>\n",
       "    <tr>\n",
       "      <td>6834</td>\n",
       "      <td>At the close of the offering, the issuer close...</td>\n",
       "    </tr>\n",
       "    <tr>\n",
       "      <td>6849</td>\n",
       "      <td>The offering ended successfully on March 28, 2...</td>\n",
       "    </tr>\n",
       "    <tr>\n",
       "      <td>6851</td>\n",
       "      <td>The Offering closed successfully on March 23,2...</td>\n",
       "    </tr>\n",
       "    <tr>\n",
       "      <td>6854</td>\n",
       "      <td>The Offering closed successfully on 3/30, havi...</td>\n",
       "    </tr>\n",
       "  </tbody>\n",
       "</table>\n",
       "<p>1023 rows × 1 columns</p>\n",
       "</div>"
      ],
      "text/plain": [
       "                                        Progress Update\n",
       "122   Issuer reached Offering Deadline (7-22-16). To...\n",
       "138   Total Investment: $999,999.00. Shares Sold: 14...\n",
       "140   $335,111 in investments. Payments are still be...\n",
       "143   $1,000,000.00 in investments. Payments are sti...\n",
       "153   Total Investment: $101,386.00. Due to a glitch...\n",
       "...                                                 ...\n",
       "6812  $282,000 in investments. Payments still being ...\n",
       "6834  At the close of the offering, the issuer close...\n",
       "6849  The offering ended successfully on March 28, 2...\n",
       "6851  The Offering closed successfully on March 23,2...\n",
       "6854  The Offering closed successfully on 3/30, havi...\n",
       "\n",
       "[1023 rows x 1 columns]"
      ]
     },
     "execution_count": 86,
     "metadata": {},
     "output_type": "execute_result"
    }
   ],
   "source": [
    "result = pd.DataFrame(data = df['Progress Update'])\n",
    "result = result.dropna()\n",
    "result.astype('str')\n",
    "result"
   ]
  },
  {
   "cell_type": "code",
   "execution_count": 87,
   "metadata": {},
   "outputs": [
    {
     "data": {
      "text/plain": [
       "122     [Issuer, reached, Offering, Deadline, (7-22-16...\n",
       "138     [Total, Investment:, $999,999.00., Shares, Sol...\n",
       "140     [$335,111, in, investments., Payments, are, st...\n",
       "143     [$1,000,000.00, in, investments., Payments, ar...\n",
       "153     [Total, Investment:, $101,386.00., Due, to, a,...\n",
       "                              ...                        \n",
       "6812    [$282,000, in, investments., Payments, still, ...\n",
       "6834    [At, the, close, of, the, offering,, the, issu...\n",
       "6849    [The, offering, ended, successfully, on, March...\n",
       "6851    [The, Offering, closed, successfully, on, Marc...\n",
       "6854    [The, Offering, closed, successfully, on, 3/30...\n",
       "Name: Progress Update, Length: 1023, dtype: object"
      ]
     },
     "execution_count": 87,
     "metadata": {},
     "output_type": "execute_result"
    }
   ],
   "source": [
    "sresult = result['Progress Update'].str.split()\n",
    "sresult"
   ]
  },
  {
   "cell_type": "code",
   "execution_count": 89,
   "metadata": {},
   "outputs": [
    {
     "name": "stdout",
     "output_type": "stream",
     "text": [
      "success    82\n",
      "Name: classification, dtype: int64\n",
      "                                        Progress Update classification\n",
      "122   Issuer reached Offering Deadline (7-22-16). To...           None\n",
      "138   Total Investment: $999,999.00. Shares Sold: 14...           None\n",
      "140   $335,111 in investments. Payments are still be...           None\n",
      "143   $1,000,000.00 in investments. Payments are sti...           None\n",
      "153   Total Investment: $101,386.00. Due to a glitch...           None\n",
      "...                                                 ...            ...\n",
      "6812  $282,000 in investments. Payments still being ...           None\n",
      "6834  At the close of the offering, the issuer close...           None\n",
      "6849  The offering ended successfully on March 28, 2...        success\n",
      "6851  The Offering closed successfully on March 23,2...        success\n",
      "6854  The Offering closed successfully on 3/30, havi...        success\n",
      "\n",
      "[1023 rows x 2 columns]\n"
     ]
    }
   ],
   "source": [
    "a1 = np.array(['successfully','success','successful','100%'])\n",
    "def assign_sf(result_):\n",
    "    sresult = result_.split()\n",
    "    for j in range(0, len(sresult)):\n",
    "        if sresult[j] in a1:\n",
    "            return 'success'\n",
    "            pass\n",
    "result['classification'] = result['Progress Update'].apply(lambda x: assign_sf(x))\n",
    "print(result['classification'].value_counts())\n",
    "print(result)"
   ]
  },
  {
   "cell_type": "code",
   "execution_count": 90,
   "metadata": {},
   "outputs": [
    {
     "data": {
      "text/plain": [
       "Series([], Name: classification, dtype: int64)"
      ]
     },
     "execution_count": 90,
     "metadata": {},
     "output_type": "execute_result"
    }
   ],
   "source": [
    "df_finance['classification'] = result['classification']\n",
    "df_num['classification'].value_counts()"
   ]
  },
  {
   "cell_type": "markdown",
   "metadata": {},
   "source": [
    "#### References\n",
    "https://blog.cambridgespark.com/how-to-determine-the-optimal-number-of-clusters-for-k-means-clustering-14f27070048f"
   ]
  }
 ],
 "metadata": {
  "kernelspec": {
   "display_name": "Python 3",
   "language": "python",
   "name": "python3"
  },
  "language_info": {
   "codemirror_mode": {
    "name": "ipython",
    "version": 3
   },
   "file_extension": ".py",
   "mimetype": "text/x-python",
   "name": "python",
   "nbconvert_exporter": "python",
   "pygments_lexer": "ipython3",
   "version": "3.7.4"
  }
 },
 "nbformat": 4,
 "nbformat_minor": 2
}
